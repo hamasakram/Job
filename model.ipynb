{
 "cells": [
  {
   "cell_type": "code",
   "execution_count": 3,
   "metadata": {},
   "outputs": [],
   "source": [
    "import pandas as pd\n",
    "import numpy as np\n"
   ]
  },
  {
   "cell_type": "code",
   "execution_count": 4,
   "metadata": {},
   "outputs": [
    {
     "data": {
      "text/plain": [
       "Index(['Experience', 'Qualifications', 'Salary Range', 'location', 'Country',\n",
       "       'Work Type', 'Company Size', 'Preference', 'Job Title', 'Role',\n",
       "       'Job Description', 'Benefits', 'skills', 'Responsibilities', 'Company',\n",
       "       'Company Profile'],\n",
       "      dtype='object')"
      ]
     },
     "execution_count": 4,
     "metadata": {},
     "output_type": "execute_result"
    }
   ],
   "source": [
    "dt=pd.read_csv('final_data.csv')\n",
    "dt.columns"
   ]
  },
  {
   "cell_type": "code",
   "execution_count": 5,
   "metadata": {},
   "outputs": [],
   "source": [
    "\n",
    "import re\n",
    "def clean_text(text):\n",
    "    if isinstance(text, str):\n",
    "        text = re.sub('<.*?>', '', text)  # Remove HTML tags\n",
    "        text = re.sub('[^\\w\\s]', '', text)  # Remove punctuation\n",
    "        text = re.sub('\\s+', ' ', text)  # Replace multiple spaces with a single space\n",
    "        text = text.strip()  # Remove leading and trailing whitespace\n",
    "    return text\n",
    "\n",
    "# List of columns to clean\n",
    "text_columns = ['Job Description', 'Qualifications', 'skills', 'Responsibilities']\n",
    "\n",
    "# Applying the cleaning function to each text column\n",
    "for column in text_columns:\n",
    "    dt[column] = dt[column].apply(clean_text)\n"
   ]
  },
  {
   "cell_type": "code",
   "execution_count": 6,
   "metadata": {},
   "outputs": [],
   "source": [
    "\n",
    "# Option 2: Drop rows with any missing values\n",
    "dt.dropna(inplace=True)\n"
   ]
  },
  {
   "cell_type": "code",
   "execution_count": 7,
   "metadata": {},
   "outputs": [
    {
     "name": "stdout",
     "output_type": "stream",
     "text": [
      "      Experience Qualifications Salary Range              location  \\\n",
      "0  4 to 10 Years            MBA    $57K-$81K                Gitega   \n",
      "1  4 to 12 Years            BCA   $58K-$108K             Road Town   \n",
      "2   5 to 8 Years           BCom   $64K-$115K  The City of Hamilton   \n",
      "3  3 to 13 Years            PhD   $61K-$121K                 Sofia   \n",
      "4  4 to 15 Years           BCom    $58K-$95K            San Marino   \n",
      "\n",
      "                  Country  Work Type  Company Size Preference  \\\n",
      "0                 Burundi   Contract         95178       Both   \n",
      "1  British Virgin Islands  Temporary         67705       Both   \n",
      "2                 Bermuda  Part-Time        128626     Female   \n",
      "3                Bulgaria  Temporary        118645       Male   \n",
      "4              San Marino  Full-Time         22136       Both   \n",
      "\n",
      "             Job Title                                    Role  \\\n",
      "0  Electrical Engineer           Electronics Hardware Engineer   \n",
      "1      Sales Associate                  Retail Sales Associate   \n",
      "2         UI Developer                     Front-End Developer   \n",
      "3         Psychologist                   Research Psychologist   \n",
      "4  Physician Assistant  Emergency Medicine Physician Assistant   \n",
      "\n",
      "                                     Job Description  \\\n",
      "0  Electronics Hardware Engineers develop and des...   \n",
      "1  A Retail Sales Associate assists customers in ...   \n",
      "2  A FrontEnd Developer specializes in creating t...   \n",
      "3  Research Psychologists conduct psychological r...   \n",
      "4  Work in emergency departments diagnose and tre...   \n",
      "\n",
      "                                            Benefits  \\\n",
      "0  {'Flexible Spending Accounts (FSAs), Relocatio...   \n",
      "1  {'Health Insurance, Retirement Plans, Paid Tim...   \n",
      "2  {'Tuition Reimbursement, Stock Options or Equi...   \n",
      "3  {'Casual Dress Code, Social and Recreational A...   \n",
      "4  {'Tuition Reimbursement, Stock Options or Equi...   \n",
      "\n",
      "                                              skills  \\\n",
      "0  Electronics design PCB layout Embedded systems...   \n",
      "1  Customer service Sales techniques Product know...   \n",
      "2  Frontend web development HTML CSS JavaScript R...   \n",
      "3  Research methodology Data analysis Psychologic...   \n",
      "4  Emergency medical care Triage and assessment T...   \n",
      "\n",
      "                                    Responsibilities         Company  \\\n",
      "0  Develop electronic hardware components and cir...  Analog Devices   \n",
      "1  Assist customers in retail stores answer quest...    Beach Energy   \n",
      "2  Develop and maintain user interfaces for websi...          Airbnb   \n",
      "3  Conduct psychological research design experime...     HF Sinclair   \n",
      "4  Work in emergency departments providing urgent...          Markel   \n",
      "\n",
      "                                     Company Profile  \n",
      "0  {\"Sector\":\"Semiconductors\",\"Industry\":\"Semicon...  \n",
      "1  {\"Sector\":\"Energy/Oil and Gas\",\"Industry\":\"Oil...  \n",
      "2  {\"Sector\":\"Technology\",\"Industry\":\"Internet Se...  \n",
      "3  {\"Sector\":\"Energy\",\"Industry\":\"Petroleum Refin...  \n",
      "4  {\"Sector\":\"Insurance\",\"Industry\":\"Insurance: P...  \n",
      "<class 'pandas.core.frame.DataFrame'>\n",
      "Index: 52422 entries, 0 to 52604\n",
      "Data columns (total 16 columns):\n",
      " #   Column            Non-Null Count  Dtype \n",
      "---  ------            --------------  ----- \n",
      " 0   Experience        52422 non-null  object\n",
      " 1   Qualifications    52422 non-null  object\n",
      " 2   Salary Range      52422 non-null  object\n",
      " 3   location          52422 non-null  object\n",
      " 4   Country           52422 non-null  object\n",
      " 5   Work Type         52422 non-null  object\n",
      " 6   Company Size      52422 non-null  int64 \n",
      " 7   Preference        52422 non-null  object\n",
      " 8   Job Title         52422 non-null  object\n",
      " 9   Role              52422 non-null  object\n",
      " 10  Job Description   52422 non-null  object\n",
      " 11  Benefits          52422 non-null  object\n",
      " 12  skills            52422 non-null  object\n",
      " 13  Responsibilities  52422 non-null  object\n",
      " 14  Company           52422 non-null  object\n",
      " 15  Company Profile   52422 non-null  object\n",
      "dtypes: int64(1), object(15)\n",
      "memory usage: 6.8+ MB\n",
      "None\n"
     ]
    }
   ],
   "source": [
    "print(dt.head())  \n",
    "print(dt.info())  \n"
   ]
  },
  {
   "cell_type": "code",
   "execution_count": 17,
   "metadata": {},
   "outputs": [],
   "source": [
    "# Combining text data into a single column for simplicity\n",
    "dt['combined_text'] = dt['skills'] + ' ' + dt['Experience'] + ' ' + dt['Preference'] + ' ' + dt['Qualifications']\n",
    "\n"
   ]
  },
  {
   "cell_type": "code",
   "execution_count": 18,
   "metadata": {},
   "outputs": [],
   "source": [
    "from sklearn.feature_extraction.text import TfidfVectorizer\n",
    "\n",
    "tfidf_vectorizer = TfidfVectorizer(max_features=1000, ngram_range=(1, 2), stop_words='english')\n",
    "X_features = tfidf_vectorizer.fit_transform(dt['combined_text'])\n"
   ]
  },
  {
   "cell_type": "code",
   "execution_count": 19,
   "metadata": {},
   "outputs": [],
   "source": [
    "from sklearn.preprocessing import LabelEncoder\n",
    "\n",
    "label_encoder = LabelEncoder()\n",
    "y_labels = label_encoder.fit_transform(dt['Job Title'])\n"
   ]
  },
  {
   "cell_type": "code",
   "execution_count": 20,
   "metadata": {},
   "outputs": [],
   "source": [
    "from sklearn.model_selection import train_test_split\n",
    "\n",
    "X_train, X_val, y_train, y_val = train_test_split(X_features, y_labels, test_size=0.2, random_state=42)\n"
   ]
  },
  {
   "cell_type": "code",
   "execution_count": 21,
   "metadata": {},
   "outputs": [
    {
     "name": "stderr",
     "output_type": "stream",
     "text": [
      "c:\\Program Files\\Python311\\Lib\\site-packages\\keras\\src\\layers\\core\\dense.py:87: UserWarning: Do not pass an `input_shape`/`input_dim` argument to a layer. When using Sequential models, prefer using an `Input(shape)` object as the first layer in the model instead.\n",
      "  super().__init__(activity_regularizer=activity_regularizer, **kwargs)\n"
     ]
    }
   ],
   "source": [
    "import tensorflow as tf\n",
    "from tensorflow.keras.models import Sequential\n",
    "from tensorflow.keras.layers import Dense, Dropout\n",
    "\n",
    "model = Sequential()\n",
    "model.add(Dense(256, activation='relu', input_dim=X_features.shape[1]))\n",
    "model.add(Dropout(0.5))\n",
    "model.add(Dense(128, activation='relu'))\n",
    "model.add(Dropout(0.5))\n",
    "model.add(Dense(len(label_encoder.classes_), activation='softmax'))  # Output layer for multi-class\n",
    "\n",
    "# Compile the model\n",
    "model.compile(optimizer='adam', loss='sparse_categorical_crossentropy', metrics=['accuracy'])\n"
   ]
  },
  {
   "cell_type": "code",
   "execution_count": 22,
   "metadata": {},
   "outputs": [
    {
     "name": "stdout",
     "output_type": "stream",
     "text": [
      "Epoch 1/20\n",
      "\u001b[1m1311/1311\u001b[0m \u001b[32m━━━━━━━━━━━━━━━━━━━━\u001b[0m\u001b[37m\u001b[0m \u001b[1m8s\u001b[0m 5ms/step - accuracy: 0.4209 - loss: 2.8246 - val_accuracy: 0.9965 - val_loss: 0.0311\n",
      "Epoch 2/20\n",
      "\u001b[1m1311/1311\u001b[0m \u001b[32m━━━━━━━━━━━━━━━━━━━━\u001b[0m\u001b[37m\u001b[0m \u001b[1m6s\u001b[0m 5ms/step - accuracy: 0.9601 - loss: 0.1770 - val_accuracy: 1.0000 - val_loss: 0.0015\n",
      "Epoch 3/20\n",
      "\u001b[1m1311/1311\u001b[0m \u001b[32m━━━━━━━━━━━━━━━━━━━━\u001b[0m\u001b[37m\u001b[0m \u001b[1m7s\u001b[0m 6ms/step - accuracy: 0.9871 - loss: 0.0647 - val_accuracy: 1.0000 - val_loss: 3.6440e-04\n",
      "Epoch 4/20\n",
      "\u001b[1m1311/1311\u001b[0m \u001b[32m━━━━━━━━━━━━━━━━━━━━\u001b[0m\u001b[37m\u001b[0m \u001b[1m7s\u001b[0m 5ms/step - accuracy: 0.9926 - loss: 0.0344 - val_accuracy: 1.0000 - val_loss: 7.2243e-05\n",
      "Epoch 5/20\n",
      "\u001b[1m1311/1311\u001b[0m \u001b[32m━━━━━━━━━━━━━━━━━━━━\u001b[0m\u001b[37m\u001b[0m \u001b[1m7s\u001b[0m 6ms/step - accuracy: 0.9938 - loss: 0.0258 - val_accuracy: 1.0000 - val_loss: 1.5211e-05\n",
      "Epoch 6/20\n",
      "\u001b[1m1311/1311\u001b[0m \u001b[32m━━━━━━━━━━━━━━━━━━━━\u001b[0m\u001b[37m\u001b[0m \u001b[1m7s\u001b[0m 6ms/step - accuracy: 0.9948 - loss: 0.0200 - val_accuracy: 1.0000 - val_loss: 1.0368e-05\n",
      "Epoch 7/20\n",
      "\u001b[1m1311/1311\u001b[0m \u001b[32m━━━━━━━━━━━━━━━━━━━━\u001b[0m\u001b[37m\u001b[0m \u001b[1m7s\u001b[0m 5ms/step - accuracy: 0.9957 - loss: 0.0161 - val_accuracy: 1.0000 - val_loss: 2.4368e-06\n",
      "Epoch 8/20\n",
      "\u001b[1m1311/1311\u001b[0m \u001b[32m━━━━━━━━━━━━━━━━━━━━\u001b[0m\u001b[37m\u001b[0m \u001b[1m8s\u001b[0m 6ms/step - accuracy: 0.9968 - loss: 0.0127 - val_accuracy: 1.0000 - val_loss: 1.0687e-06\n",
      "Epoch 9/20\n",
      "\u001b[1m1311/1311\u001b[0m \u001b[32m━━━━━━━━━━━━━━━━━━━━\u001b[0m\u001b[37m\u001b[0m \u001b[1m8s\u001b[0m 6ms/step - accuracy: 0.9962 - loss: 0.0117 - val_accuracy: 1.0000 - val_loss: 2.1112e-06\n",
      "Epoch 10/20\n",
      "\u001b[1m1311/1311\u001b[0m \u001b[32m━━━━━━━━━━━━━━━━━━━━\u001b[0m\u001b[37m\u001b[0m \u001b[1m7s\u001b[0m 5ms/step - accuracy: 0.9966 - loss: 0.0115 - val_accuracy: 1.0000 - val_loss: 5.3578e-07\n",
      "Epoch 11/20\n",
      "\u001b[1m1311/1311\u001b[0m \u001b[32m━━━━━━━━━━━━━━━━━━━━\u001b[0m\u001b[37m\u001b[0m \u001b[1m7s\u001b[0m 5ms/step - accuracy: 0.9971 - loss: 0.0108 - val_accuracy: 1.0000 - val_loss: 1.9819e-07\n",
      "Epoch 12/20\n",
      "\u001b[1m1311/1311\u001b[0m \u001b[32m━━━━━━━━━━━━━━━━━━━━\u001b[0m\u001b[37m\u001b[0m \u001b[1m8s\u001b[0m 6ms/step - accuracy: 0.9975 - loss: 0.0093 - val_accuracy: 1.0000 - val_loss: 9.5674e-08\n",
      "Epoch 13/20\n",
      "\u001b[1m1311/1311\u001b[0m \u001b[32m━━━━━━━━━━━━━━━━━━━━\u001b[0m\u001b[37m\u001b[0m \u001b[1m7s\u001b[0m 6ms/step - accuracy: 0.9971 - loss: 0.0091 - val_accuracy: 1.0000 - val_loss: 5.2254e-08\n",
      "Epoch 14/20\n",
      "\u001b[1m1311/1311\u001b[0m \u001b[32m━━━━━━━━━━━━━━━━━━━━\u001b[0m\u001b[37m\u001b[0m \u001b[1m7s\u001b[0m 5ms/step - accuracy: 0.9978 - loss: 0.0072 - val_accuracy: 1.0000 - val_loss: 6.2509e-08\n",
      "Epoch 15/20\n",
      "\u001b[1m1311/1311\u001b[0m \u001b[32m━━━━━━━━━━━━━━━━━━━━\u001b[0m\u001b[37m\u001b[0m \u001b[1m7s\u001b[0m 5ms/step - accuracy: 0.9971 - loss: 0.0086 - val_accuracy: 1.0000 - val_loss: 2.1704e-08\n",
      "Epoch 16/20\n",
      "\u001b[1m1311/1311\u001b[0m \u001b[32m━━━━━━━━━━━━━━━━━━━━\u001b[0m\u001b[37m\u001b[0m \u001b[1m7s\u001b[0m 5ms/step - accuracy: 0.9980 - loss: 0.0063 - val_accuracy: 1.0000 - val_loss: 1.1506e-08\n",
      "Epoch 17/20\n",
      "\u001b[1m1311/1311\u001b[0m \u001b[32m━━━━━━━━━━━━━━━━━━━━\u001b[0m\u001b[37m\u001b[0m \u001b[1m8s\u001b[0m 6ms/step - accuracy: 0.9982 - loss: 0.0061 - val_accuracy: 1.0000 - val_loss: 1.1767e-08\n",
      "Epoch 18/20\n",
      "\u001b[1m1311/1311\u001b[0m \u001b[32m━━━━━━━━━━━━━━━━━━━━\u001b[0m\u001b[37m\u001b[0m \u001b[1m9s\u001b[0m 7ms/step - accuracy: 0.9974 - loss: 0.0071 - val_accuracy: 1.0000 - val_loss: 4.7752e-09\n",
      "Epoch 19/20\n",
      "\u001b[1m1311/1311\u001b[0m \u001b[32m━━━━━━━━━━━━━━━━━━━━\u001b[0m\u001b[37m\u001b[0m \u001b[1m8s\u001b[0m 6ms/step - accuracy: 0.9975 - loss: 0.0077 - val_accuracy: 1.0000 - val_loss: 7.5039e-10\n",
      "Epoch 20/20\n",
      "\u001b[1m1311/1311\u001b[0m \u001b[32m━━━━━━━━━━━━━━━━━━━━\u001b[0m\u001b[37m\u001b[0m \u001b[1m8s\u001b[0m 6ms/step - accuracy: 0.9978 - loss: 0.0063 - val_accuracy: 1.0000 - val_loss: 2.5013e-09\n"
     ]
    }
   ],
   "source": [
    "history = model.fit(X_train, y_train, epochs=20, batch_size=32, validation_data=(X_val, y_val))\n"
   ]
  },
  {
   "cell_type": "code",
   "execution_count": 23,
   "metadata": {},
   "outputs": [
    {
     "name": "stdout",
     "output_type": "stream",
     "text": [
      "\u001b[1m328/328\u001b[0m \u001b[32m━━━━━━━━━━━━━━━━━━━━\u001b[0m\u001b[37m\u001b[0m \u001b[1m1s\u001b[0m 2ms/step - accuracy: 1.0000 - loss: 2.1216e-09\n",
      "Validation Accuracy: 1.0\n"
     ]
    }
   ],
   "source": [
    "# Evaluate on validation set\n",
    "val_loss, val_acc = model.evaluate(X_val, y_val)\n",
    "print(f\"Validation Accuracy: {val_acc}\")\n"
   ]
  },
  {
   "cell_type": "code",
   "execution_count": 25,
   "metadata": {},
   "outputs": [],
   "source": [
    "def recommend_job_title(skills, experience, preferences):\n",
    "    # Combine the input features into a single string\n",
    "    combined_input = f\"{skills} {experience} {preferences}\"\n",
    "    \n",
    "    # Transform the combined input using the pre-trained TF-IDF vectorizer\n",
    "    input_vector = tfidf_vectorizer.transform([combined_input])\n",
    "    \n",
    "    # Use the trained neural network to make a prediction\n",
    "    prediction = model.predict(input_vector)\n",
    "    \n",
    "    # Convert the predicted label back to the job title\n",
    "    predicted_job_title = label_encoder.inverse_transform([np.argmax(prediction)])[0]\n",
    "    \n",
    "    return predicted_job_title\n"
   ]
  },
  {
   "cell_type": "code",
   "execution_count": 36,
   "metadata": {},
   "outputs": [
    {
     "name": "stdout",
     "output_type": "stream",
     "text": [
      "\u001b[1m1/1\u001b[0m \u001b[32m━━━━━━━━━━━━━━━━━━━━\u001b[0m\u001b[37m\u001b[0m \u001b[1m0s\u001b[0m 107ms/step\n",
      "Recommended Job Title: Copywriter\n"
     ]
    }
   ],
   "source": [
    "# Example user inputs\n",
    "user_skills = \"writing\"\n",
    "user_experience = \"\"\n",
    "user_preferences = \"remote work, flexible hours\"\n",
    "\n",
    "# Get the recommended job title\n",
    "recommended_job = recommend_job_title(user_skills, user_experience, user_preferences)\n",
    "print(f\"Recommended Job Title: {recommended_job}\")\n"
   ]
  },
  {
   "cell_type": "code",
   "execution_count": null,
   "metadata": {},
   "outputs": [],
   "source": []
  }
 ],
 "metadata": {
  "kernelspec": {
   "display_name": "Python 3",
   "language": "python",
   "name": "python3"
  },
  "language_info": {
   "codemirror_mode": {
    "name": "ipython",
    "version": 3
   },
   "file_extension": ".py",
   "mimetype": "text/x-python",
   "name": "python",
   "nbconvert_exporter": "python",
   "pygments_lexer": "ipython3",
   "version": "3.11.9"
  }
 },
 "nbformat": 4,
 "nbformat_minor": 2
}
